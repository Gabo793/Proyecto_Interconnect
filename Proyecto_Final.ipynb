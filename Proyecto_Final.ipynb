{
 "cells": [
  {
   "cell_type": "markdown",
   "metadata": {},
   "source": [
    "# Proyecto Final"
   ]
  },
  {
   "cell_type": "markdown",
   "metadata": {},
   "source": [
    "##### Al operador de telecomunicaciones Interconnect le gustaría poder pronosticar su tasa de cancelación de clientes. Si se descubre que un usuario o usuaria planea irse, se le ofrecerán códigos promocionales y opciones de planes especiales. El equipo de marketing de Interconnect ha recopilado algunos de los datos personales de sus clientes, incluyendo información sobre sus planes y contratos.\n",
    "\n",
    "### Servicios de Interconnect\n",
    "\n",
    "##### Interconnect proporciona principalmente dos tipos de servicios:\n",
    "\n",
    "##### 1. Comunicación por teléfono fijo. El teléfono se puede conectar a varias líneas de manera simultánea.\n",
    "##### 2. Internet. La red se puede configurar a través de una línea telefónica (DSL, *línea de abonado digital*) o a través de un cable de fibra óptica.\n",
    "\n",
    "##### Algunos otros servicios que ofrece la empresa incluyen:\n",
    "\n",
    "##### - Seguridad en Internet: software antivirus (*ProtecciónDeDispositivo*) y un bloqueador de sitios web maliciosos (*SeguridadEnLínea*).\n",
    "##### - Una línea de soporte técnico (*SoporteTécnico*).\n",
    "##### - Almacenamiento de archivos en la nube y backup de datos (*BackupOnline*).\n",
    "##### - Streaming de TV (*StreamingTV*) y directorio de películas (*StreamingPelículas*)\n",
    "\n",
    "##### La clientela puede elegir entre un pago mensual o firmar un contrato de 1 o 2 años. Puede utilizar varios métodos de pago y recibir una factura electrónica después de una transacción."
   ]
  },
  {
   "cell_type": "markdown",
   "metadata": {},
   "source": [
    "### 1) Analisis de datos"
   ]
  },
  {
   "cell_type": "markdown",
   "metadata": {},
   "source": [
    "#### a) Cargar Datos y librerias"
   ]
  },
  {
   "cell_type": "code",
   "execution_count": 1,
   "metadata": {},
   "outputs": [],
   "source": [
    "#Se importan librerias\n",
    "import pandas as pd\n",
    "import numpy as np\n",
    "from matplotlib import pyplot as plt\n",
    "import seaborn as sns\n",
    "import datetime as datetime\n",
    "\n",
    "from sklearn.preprocessing import StandardScaler\n",
    "from sklearn.model_selection import train_test_split\n",
    "from sklearn.linear_model import LogisticRegression\n",
    "from sklearn.metrics import accuracy_score\n",
    "from sklearn.metrics import roc_auc_score\n",
    "from sklearn.metrics import roc_curve\n",
    "from sklearn.ensemble import RandomForestClassifier\n",
    "from sklearn.tree import DecisionTreeClassifier\n",
    "from sklearn.model_selection import GridSearchCV\n",
    "from xgboost import XGBClassifier"
   ]
  },
  {
   "cell_type": "code",
   "execution_count": 2,
   "metadata": {},
   "outputs": [],
   "source": [
    "#Se cargan los DataFrame\n",
    "contract = pd.read_csv(\"contract.csv\")\n",
    "internet = pd.read_csv(\"internet.csv\")\n",
    "personal = pd.read_csv(\"personal.csv\")\n",
    "phone = pd.read_csv(\"phone.csv\")"
   ]
  },
  {
   "cell_type": "markdown",
   "metadata": {},
   "source": [
    "#### b) Limpieza de datos"
   ]
  },
  {
   "cell_type": "code",
   "execution_count": 3,
   "metadata": {},
   "outputs": [
    {
     "name": "stdout",
     "output_type": "stream",
     "text": [
      "   customerID   BeginDate              EndDate            Type  \\\n",
      "0  7590-VHVEG  2020-01-01                   No  Month-to-month   \n",
      "1  5575-GNVDE  2017-04-01                   No        One year   \n",
      "2  3668-QPYBK  2019-10-01  2019-12-01 00:00:00  Month-to-month   \n",
      "3  7795-CFOCW  2016-05-01                   No        One year   \n",
      "4  9237-HQITU  2019-09-01  2019-11-01 00:00:00  Month-to-month   \n",
      "\n",
      "  PaperlessBilling              PaymentMethod  MonthlyCharges TotalCharges  \n",
      "0              Yes           Electronic check           29.85        29.85  \n",
      "1               No               Mailed check           56.95       1889.5  \n",
      "2              Yes               Mailed check           53.85       108.15  \n",
      "3               No  Bank transfer (automatic)           42.30      1840.75  \n",
      "4              Yes           Electronic check           70.70       151.65  \n",
      "\n",
      "<class 'pandas.core.frame.DataFrame'>\n",
      "RangeIndex: 7043 entries, 0 to 7042\n",
      "Data columns (total 8 columns):\n",
      " #   Column            Non-Null Count  Dtype  \n",
      "---  ------            --------------  -----  \n",
      " 0   customerID        7043 non-null   object \n",
      " 1   BeginDate         7043 non-null   object \n",
      " 2   EndDate           7043 non-null   object \n",
      " 3   Type              7043 non-null   object \n",
      " 4   PaperlessBilling  7043 non-null   object \n",
      " 5   PaymentMethod     7043 non-null   object \n",
      " 6   MonthlyCharges    7043 non-null   float64\n",
      " 7   TotalCharges      7043 non-null   object \n",
      "dtypes: float64(1), object(7)\n",
      "memory usage: 440.3+ KB\n",
      "None\n"
     ]
    }
   ],
   "source": [
    "#Se muestra la informacion y head del DataFrame \"contract\"\n",
    "\n",
    "print(contract.head())\n",
    "print()\n",
    "print(contract.info())"
   ]
  },
  {
   "cell_type": "code",
   "execution_count": 4,
   "metadata": {},
   "outputs": [
    {
     "name": "stdout",
     "output_type": "stream",
     "text": [
      "Valores nulos: \n",
      " \n",
      "customerID          0\n",
      "BeginDate           0\n",
      "EndDate             0\n",
      "Type                0\n",
      "PaperlessBilling    0\n",
      "PaymentMethod       0\n",
      "MonthlyCharges      0\n",
      "TotalCharges        0\n",
      "dtype: int64\n",
      "\n",
      "Valores duplicado: 0\n"
     ]
    }
   ],
   "source": [
    "#Se asegura que el DF no tenga valores nulos y duplicados\n",
    "print(f'Valores nulos: \\n \\n{contract.isnull().sum()}')\n",
    "print()\n",
    "print(f'Valores duplicado: {contract.duplicated().sum()}')"
   ]
  },
  {
   "cell_type": "code",
   "execution_count": 5,
   "metadata": {},
   "outputs": [
    {
     "name": "stdout",
     "output_type": "stream",
     "text": [
      "   customerID InternetService OnlineSecurity OnlineBackup DeviceProtection  \\\n",
      "0  7590-VHVEG             DSL             No          Yes               No   \n",
      "1  5575-GNVDE             DSL            Yes           No              Yes   \n",
      "2  3668-QPYBK             DSL            Yes          Yes               No   \n",
      "3  7795-CFOCW             DSL            Yes           No              Yes   \n",
      "4  9237-HQITU     Fiber optic             No           No               No   \n",
      "\n",
      "  TechSupport StreamingTV StreamingMovies  \n",
      "0          No          No              No  \n",
      "1          No          No              No  \n",
      "2          No          No              No  \n",
      "3         Yes          No              No  \n",
      "4          No          No              No  \n",
      "\n",
      "<class 'pandas.core.frame.DataFrame'>\n",
      "RangeIndex: 5517 entries, 0 to 5516\n",
      "Data columns (total 8 columns):\n",
      " #   Column            Non-Null Count  Dtype \n",
      "---  ------            --------------  ----- \n",
      " 0   customerID        5517 non-null   object\n",
      " 1   InternetService   5517 non-null   object\n",
      " 2   OnlineSecurity    5517 non-null   object\n",
      " 3   OnlineBackup      5517 non-null   object\n",
      " 4   DeviceProtection  5517 non-null   object\n",
      " 5   TechSupport       5517 non-null   object\n",
      " 6   StreamingTV       5517 non-null   object\n",
      " 7   StreamingMovies   5517 non-null   object\n",
      "dtypes: object(8)\n",
      "memory usage: 344.9+ KB\n",
      "None\n",
      "\n"
     ]
    }
   ],
   "source": [
    "#Se muestra la informacion y head del DataFrame \"internet\"\n",
    "print(internet.head())\n",
    "print()\n",
    "print(internet.info())\n",
    "print()"
   ]
  },
  {
   "cell_type": "code",
   "execution_count": 6,
   "metadata": {},
   "outputs": [
    {
     "name": "stdout",
     "output_type": "stream",
     "text": [
      "Valores nulos: \n",
      " \n",
      "customerID          0\n",
      "InternetService     0\n",
      "OnlineSecurity      0\n",
      "OnlineBackup        0\n",
      "DeviceProtection    0\n",
      "TechSupport         0\n",
      "StreamingTV         0\n",
      "StreamingMovies     0\n",
      "dtype: int64\n",
      "\n",
      "Valores duplicado: 0\n"
     ]
    }
   ],
   "source": [
    "#Se asegura que el DF no tengo valores nulos o duplicados\n",
    "print(f'Valores nulos: \\n \\n{internet.isnull().sum()}')\n",
    "print()\n",
    "print(f'Valores duplicado: {internet.duplicated().sum()}')"
   ]
  },
  {
   "cell_type": "code",
   "execution_count": 7,
   "metadata": {},
   "outputs": [
    {
     "name": "stdout",
     "output_type": "stream",
     "text": [
      "   customerID  gender  SeniorCitizen Partner Dependents\n",
      "0  7590-VHVEG  Female              0     Yes         No\n",
      "1  5575-GNVDE    Male              0      No         No\n",
      "2  3668-QPYBK    Male              0      No         No\n",
      "3  7795-CFOCW    Male              0      No         No\n",
      "4  9237-HQITU  Female              0      No         No\n",
      "\n",
      "<class 'pandas.core.frame.DataFrame'>\n",
      "RangeIndex: 7043 entries, 0 to 7042\n",
      "Data columns (total 5 columns):\n",
      " #   Column         Non-Null Count  Dtype \n",
      "---  ------         --------------  ----- \n",
      " 0   customerID     7043 non-null   object\n",
      " 1   gender         7043 non-null   object\n",
      " 2   SeniorCitizen  7043 non-null   int64 \n",
      " 3   Partner        7043 non-null   object\n",
      " 4   Dependents     7043 non-null   object\n",
      "dtypes: int64(1), object(4)\n",
      "memory usage: 275.2+ KB\n",
      "None\n"
     ]
    }
   ],
   "source": [
    "#Se muestra la informacion y head del DataFrame \"personal\"\n",
    "\n",
    "print(personal.head())\n",
    "print()\n",
    "print(personal.info())"
   ]
  },
  {
   "cell_type": "code",
   "execution_count": 8,
   "metadata": {},
   "outputs": [
    {
     "name": "stdout",
     "output_type": "stream",
     "text": [
      "Valores nulos: \n",
      " \n",
      "customerID       0\n",
      "gender           0\n",
      "SeniorCitizen    0\n",
      "Partner          0\n",
      "Dependents       0\n",
      "dtype: int64\n",
      "\n",
      "Valores duplicado: 0\n"
     ]
    }
   ],
   "source": [
    "#Se asegura que el DF no tengo valores nulos o duplicados\n",
    "print(f'Valores nulos: \\n \\n{personal.isnull().sum()}')\n",
    "print()\n",
    "print(f'Valores duplicado: {personal.duplicated().sum()}')"
   ]
  },
  {
   "cell_type": "code",
   "execution_count": 9,
   "metadata": {},
   "outputs": [
    {
     "name": "stdout",
     "output_type": "stream",
     "text": [
      "   customerID MultipleLines\n",
      "0  5575-GNVDE            No\n",
      "1  3668-QPYBK            No\n",
      "2  9237-HQITU            No\n",
      "3  9305-CDSKC           Yes\n",
      "4  1452-KIOVK           Yes\n",
      "\n",
      "<class 'pandas.core.frame.DataFrame'>\n",
      "RangeIndex: 6361 entries, 0 to 6360\n",
      "Data columns (total 2 columns):\n",
      " #   Column         Non-Null Count  Dtype \n",
      "---  ------         --------------  ----- \n",
      " 0   customerID     6361 non-null   object\n",
      " 1   MultipleLines  6361 non-null   object\n",
      "dtypes: object(2)\n",
      "memory usage: 99.5+ KB\n",
      "None\n"
     ]
    }
   ],
   "source": [
    "#Se muestra la informacion y head del DataFrame \"phone\"\n",
    "\n",
    "print(phone.head())\n",
    "print()\n",
    "print(phone.info())"
   ]
  },
  {
   "cell_type": "code",
   "execution_count": 10,
   "metadata": {},
   "outputs": [
    {
     "name": "stdout",
     "output_type": "stream",
     "text": [
      "Valores nulos: \n",
      " \n",
      "customerID       0\n",
      "MultipleLines    0\n",
      "dtype: int64\n",
      "\n",
      "Valores duplicado: 0\n"
     ]
    }
   ],
   "source": [
    "#Se asegura que el DF no tengo valores nulos o duplicados\n",
    "print(f'Valores nulos: \\n \\n{phone.isnull().sum()}')\n",
    "print()\n",
    "print(f'Valores duplicado: {phone.duplicated().sum()}')"
   ]
  },
  {
   "cell_type": "markdown",
   "metadata": {},
   "source": [
    "##### No existen valores duplicados ni nulos, por lo que se puede proceder a la union de los DataFrame."
   ]
  },
  {
   "cell_type": "markdown",
   "metadata": {},
   "source": [
    "#### c) Union de datos"
   ]
  },
  {
   "cell_type": "code",
   "execution_count": 11,
   "metadata": {},
   "outputs": [
    {
     "name": "stdout",
     "output_type": "stream",
     "text": [
      "   customerID   BeginDate              EndDate            Type  \\\n",
      "0  7590-VHVEG  2020-01-01                   No  Month-to-month   \n",
      "1  5575-GNVDE  2017-04-01                   No        One year   \n",
      "2  3668-QPYBK  2019-10-01  2019-12-01 00:00:00  Month-to-month   \n",
      "3  7795-CFOCW  2016-05-01                   No        One year   \n",
      "4  9237-HQITU  2019-09-01  2019-11-01 00:00:00  Month-to-month   \n",
      "\n",
      "  PaperlessBilling              PaymentMethod  MonthlyCharges TotalCharges  \\\n",
      "0              Yes           Electronic check           29.85        29.85   \n",
      "1               No               Mailed check           56.95       1889.5   \n",
      "2              Yes               Mailed check           53.85       108.15   \n",
      "3               No  Bank transfer (automatic)           42.30      1840.75   \n",
      "4              Yes           Electronic check           70.70       151.65   \n",
      "\n",
      "   gender  SeniorCitizen Partner Dependents  \n",
      "0  Female              0     Yes         No  \n",
      "1    Male              0      No         No  \n",
      "2    Male              0      No         No  \n",
      "3    Male              0      No         No  \n",
      "4  Female              0      No         No  \n"
     ]
    }
   ],
   "source": [
    "#Se une \"Contract\" e \"Personal\" en \"df_1\"\n",
    "\n",
    "df_1 = contract.merge(personal, on='customerID')\n",
    "print(df_1.head())"
   ]
  },
  {
   "cell_type": "code",
   "execution_count": 12,
   "metadata": {},
   "outputs": [
    {
     "name": "stdout",
     "output_type": "stream",
     "text": [
      "<class 'pandas.core.frame.DataFrame'>\n",
      "RangeIndex: 7043 entries, 0 to 7042\n",
      "Data columns (total 12 columns):\n",
      " #   Column            Non-Null Count  Dtype  \n",
      "---  ------            --------------  -----  \n",
      " 0   customerID        7043 non-null   object \n",
      " 1   BeginDate         7043 non-null   object \n",
      " 2   EndDate           7043 non-null   object \n",
      " 3   Type              7043 non-null   object \n",
      " 4   PaperlessBilling  7043 non-null   object \n",
      " 5   PaymentMethod     7043 non-null   object \n",
      " 6   MonthlyCharges    7043 non-null   float64\n",
      " 7   TotalCharges      7043 non-null   object \n",
      " 8   gender            7043 non-null   object \n",
      " 9   SeniorCitizen     7043 non-null   int64  \n",
      " 10  Partner           7043 non-null   object \n",
      " 11  Dependents        7043 non-null   object \n",
      "dtypes: float64(1), int64(1), object(10)\n",
      "memory usage: 660.4+ KB\n"
     ]
    }
   ],
   "source": [
    "#Se obtiene la informacion del df_1\n",
    "df_1.info()"
   ]
  },
  {
   "cell_type": "code",
   "execution_count": 13,
   "metadata": {},
   "outputs": [
    {
     "name": "stdout",
     "output_type": "stream",
     "text": [
      "   customerID   BeginDate              EndDate            Type  \\\n",
      "0  0002-ORFBO  2019-05-01                   No        One year   \n",
      "1  0003-MKNFE  2019-05-01                   No  Month-to-month   \n",
      "2  0004-TLHLJ  2019-09-01  2020-01-01 00:00:00  Month-to-month   \n",
      "3  0011-IGKFF  2018-12-01  2020-01-01 00:00:00  Month-to-month   \n",
      "4  0013-EXCHZ  2019-09-01  2019-12-01 00:00:00  Month-to-month   \n",
      "\n",
      "  PaperlessBilling     PaymentMethod  MonthlyCharges TotalCharges  gender  \\\n",
      "0              Yes      Mailed check            65.6        593.3  Female   \n",
      "1               No      Mailed check            59.9        542.4    Male   \n",
      "2              Yes  Electronic check            73.9       280.85    Male   \n",
      "3              Yes  Electronic check            98.0      1237.85    Male   \n",
      "4              Yes      Mailed check            83.9        267.4  Female   \n",
      "\n",
      "   SeniorCitizen Partner Dependents InternetService OnlineSecurity  \\\n",
      "0              0     Yes        Yes             DSL             No   \n",
      "1              0      No         No             DSL             No   \n",
      "2              0      No         No     Fiber optic             No   \n",
      "3              1     Yes         No     Fiber optic             No   \n",
      "4              1     Yes         No     Fiber optic             No   \n",
      "\n",
      "  OnlineBackup DeviceProtection TechSupport StreamingTV StreamingMovies  \n",
      "0          Yes               No         Yes         Yes              No  \n",
      "1           No               No          No          No             Yes  \n",
      "2           No              Yes          No          No              No  \n",
      "3          Yes              Yes          No         Yes             Yes  \n",
      "4           No               No         Yes         Yes              No  \n"
     ]
    }
   ],
   "source": [
    "#Se une \"df_1\" con \"internet\" en \"df_2\"\n",
    "\n",
    "df_2 = df_1.merge(internet, on='customerID', how = 'outer')\n",
    "print(df_2.head())"
   ]
  },
  {
   "cell_type": "code",
   "execution_count": 14,
   "metadata": {},
   "outputs": [
    {
     "name": "stdout",
     "output_type": "stream",
     "text": [
      "<class 'pandas.core.frame.DataFrame'>\n",
      "RangeIndex: 7043 entries, 0 to 7042\n",
      "Data columns (total 19 columns):\n",
      " #   Column            Non-Null Count  Dtype  \n",
      "---  ------            --------------  -----  \n",
      " 0   customerID        7043 non-null   object \n",
      " 1   BeginDate         7043 non-null   object \n",
      " 2   EndDate           7043 non-null   object \n",
      " 3   Type              7043 non-null   object \n",
      " 4   PaperlessBilling  7043 non-null   object \n",
      " 5   PaymentMethod     7043 non-null   object \n",
      " 6   MonthlyCharges    7043 non-null   float64\n",
      " 7   TotalCharges      7043 non-null   object \n",
      " 8   gender            7043 non-null   object \n",
      " 9   SeniorCitizen     7043 non-null   int64  \n",
      " 10  Partner           7043 non-null   object \n",
      " 11  Dependents        7043 non-null   object \n",
      " 12  InternetService   5517 non-null   object \n",
      " 13  OnlineSecurity    5517 non-null   object \n",
      " 14  OnlineBackup      5517 non-null   object \n",
      " 15  DeviceProtection  5517 non-null   object \n",
      " 16  TechSupport       5517 non-null   object \n",
      " 17  StreamingTV       5517 non-null   object \n",
      " 18  StreamingMovies   5517 non-null   object \n",
      "dtypes: float64(1), int64(1), object(17)\n",
      "memory usage: 1.0+ MB\n"
     ]
    }
   ],
   "source": [
    "#Se obtiene la informacion del df_2\n",
    "df_2.info()"
   ]
  },
  {
   "cell_type": "code",
   "execution_count": 15,
   "metadata": {},
   "outputs": [
    {
     "name": "stdout",
     "output_type": "stream",
     "text": [
      "   customerID   BeginDate              EndDate            Type  \\\n",
      "0  0002-ORFBO  2019-05-01                   No        One year   \n",
      "1  0003-MKNFE  2019-05-01                   No  Month-to-month   \n",
      "2  0004-TLHLJ  2019-09-01  2020-01-01 00:00:00  Month-to-month   \n",
      "3  0011-IGKFF  2018-12-01  2020-01-01 00:00:00  Month-to-month   \n",
      "4  0013-EXCHZ  2019-09-01  2019-12-01 00:00:00  Month-to-month   \n",
      "\n",
      "  PaperlessBilling     PaymentMethod  MonthlyCharges TotalCharges  gender  \\\n",
      "0              Yes      Mailed check            65.6        593.3  Female   \n",
      "1               No      Mailed check            59.9        542.4    Male   \n",
      "2              Yes  Electronic check            73.9       280.85    Male   \n",
      "3              Yes  Electronic check            98.0      1237.85    Male   \n",
      "4              Yes      Mailed check            83.9        267.4  Female   \n",
      "\n",
      "   SeniorCitizen Partner Dependents InternetService OnlineSecurity  \\\n",
      "0              0     Yes        Yes             DSL             No   \n",
      "1              0      No         No             DSL             No   \n",
      "2              0      No         No     Fiber optic             No   \n",
      "3              1     Yes         No     Fiber optic             No   \n",
      "4              1     Yes         No     Fiber optic             No   \n",
      "\n",
      "  OnlineBackup DeviceProtection TechSupport StreamingTV StreamingMovies  \\\n",
      "0          Yes               No         Yes         Yes              No   \n",
      "1           No               No          No          No             Yes   \n",
      "2           No              Yes          No          No              No   \n",
      "3          Yes              Yes          No         Yes             Yes   \n",
      "4           No               No         Yes         Yes              No   \n",
      "\n",
      "  MultipleLines  \n",
      "0            No  \n",
      "1           Yes  \n",
      "2            No  \n",
      "3            No  \n",
      "4            No  \n"
     ]
    }
   ],
   "source": [
    "#Se une \"df_2\" con \"phone\" en \"df\"\n",
    "\n",
    "df = df_2.merge(phone, on='customerID', how='outer')\n",
    "print(df.head())"
   ]
  },
  {
   "cell_type": "code",
   "execution_count": 16,
   "metadata": {},
   "outputs": [
    {
     "name": "stdout",
     "output_type": "stream",
     "text": [
      "<class 'pandas.core.frame.DataFrame'>\n",
      "RangeIndex: 7043 entries, 0 to 7042\n",
      "Data columns (total 20 columns):\n",
      " #   Column            Non-Null Count  Dtype  \n",
      "---  ------            --------------  -----  \n",
      " 0   customerID        7043 non-null   object \n",
      " 1   BeginDate         7043 non-null   object \n",
      " 2   EndDate           7043 non-null   object \n",
      " 3   Type              7043 non-null   object \n",
      " 4   PaperlessBilling  7043 non-null   object \n",
      " 5   PaymentMethod     7043 non-null   object \n",
      " 6   MonthlyCharges    7043 non-null   float64\n",
      " 7   TotalCharges      7043 non-null   object \n",
      " 8   gender            7043 non-null   object \n",
      " 9   SeniorCitizen     7043 non-null   int64  \n",
      " 10  Partner           7043 non-null   object \n",
      " 11  Dependents        7043 non-null   object \n",
      " 12  InternetService   5517 non-null   object \n",
      " 13  OnlineSecurity    5517 non-null   object \n",
      " 14  OnlineBackup      5517 non-null   object \n",
      " 15  DeviceProtection  5517 non-null   object \n",
      " 16  TechSupport       5517 non-null   object \n",
      " 17  StreamingTV       5517 non-null   object \n",
      " 18  StreamingMovies   5517 non-null   object \n",
      " 19  MultipleLines     6361 non-null   object \n",
      "dtypes: float64(1), int64(1), object(18)\n",
      "memory usage: 1.1+ MB\n"
     ]
    }
   ],
   "source": [
    "#Se obtiene la informacion de 'df'\n",
    "df.info()"
   ]
  },
  {
   "cell_type": "markdown",
   "metadata": {},
   "source": [
    "##### Se puede observar que hay varios clientes que no cuentan con servicios adicionales como lo son 'internet' y 'phone' por lo que tenemos valores nulos, los mantenemos ya que son importantes para nuestro analisis.\n",
    "##### De igual manera se observan que existen datos numericos que se encuentran como 'object' por lo que hay que modificar su tipo de dato."
   ]
  },
  {
   "cell_type": "markdown",
   "metadata": {},
   "source": [
    "#### c) Manejo de Nulos y Ausentes y tipos de datos"
   ]
  },
  {
   "cell_type": "code",
   "execution_count": 17,
   "metadata": {},
   "outputs": [],
   "source": [
    "#Se llenan valores ausentes\n",
    "\n",
    "df['InternetService'] = df['InternetService'].fillna('No')\n",
    "df['OnlineSecurity'] = df['OnlineSecurity'].fillna('No')\n",
    "df['OnlineBackup'] = df['OnlineBackup'].fillna('No')\n",
    "df['DeviceProtection'] = df['DeviceProtection'].fillna('No')\n",
    "df['TechSupport'] = df['TechSupport'].fillna('No')\n",
    "df['StreamingTV'] = df['StreamingTV'].fillna('No')\n",
    "df['StreamingMovies'] = df['StreamingMovies'].fillna('No')\n",
    "df['MultipleLines'] = df['MultipleLines'].fillna('No')"
   ]
  },
  {
   "cell_type": "code",
   "execution_count": 18,
   "metadata": {},
   "outputs": [
    {
     "name": "stdout",
     "output_type": "stream",
     "text": [
      "<class 'pandas.core.frame.DataFrame'>\n",
      "RangeIndex: 7043 entries, 0 to 7042\n",
      "Data columns (total 20 columns):\n",
      " #   Column            Non-Null Count  Dtype  \n",
      "---  ------            --------------  -----  \n",
      " 0   customerID        7043 non-null   object \n",
      " 1   BeginDate         7043 non-null   object \n",
      " 2   EndDate           7043 non-null   object \n",
      " 3   Type              7043 non-null   object \n",
      " 4   PaperlessBilling  7043 non-null   object \n",
      " 5   PaymentMethod     7043 non-null   object \n",
      " 6   MonthlyCharges    7043 non-null   float64\n",
      " 7   TotalCharges      7043 non-null   object \n",
      " 8   gender            7043 non-null   object \n",
      " 9   SeniorCitizen     7043 non-null   int64  \n",
      " 10  Partner           7043 non-null   object \n",
      " 11  Dependents        7043 non-null   object \n",
      " 12  InternetService   7043 non-null   object \n",
      " 13  OnlineSecurity    7043 non-null   object \n",
      " 14  OnlineBackup      7043 non-null   object \n",
      " 15  DeviceProtection  7043 non-null   object \n",
      " 16  TechSupport       7043 non-null   object \n",
      " 17  StreamingTV       7043 non-null   object \n",
      " 18  StreamingMovies   7043 non-null   object \n",
      " 19  MultipleLines     7043 non-null   object \n",
      "dtypes: float64(1), int64(1), object(18)\n",
      "memory usage: 1.1+ MB\n"
     ]
    }
   ],
   "source": [
    "df.info()"
   ]
  },
  {
   "cell_type": "code",
   "execution_count": 19,
   "metadata": {},
   "outputs": [],
   "source": [
    "#Se cambia la columna \"TotalCharge\" a tipo 'float64'\n",
    "\n",
    "df['TotalCharges'] = pd.to_numeric(df['TotalCharges'], errors='coerce')"
   ]
  },
  {
   "cell_type": "code",
   "execution_count": 20,
   "metadata": {},
   "outputs": [],
   "source": [
    "#Se cambia la columna \"BeginDate\" a tipo 'datetime'\n",
    "\n",
    "df['BeginDate'] = pd.to_datetime(df['BeginDate'])"
   ]
  },
  {
   "cell_type": "code",
   "execution_count": 21,
   "metadata": {},
   "outputs": [
    {
     "name": "stdout",
     "output_type": "stream",
     "text": [
      "<class 'pandas.core.frame.DataFrame'>\n",
      "RangeIndex: 7043 entries, 0 to 7042\n",
      "Data columns (total 20 columns):\n",
      " #   Column            Non-Null Count  Dtype         \n",
      "---  ------            --------------  -----         \n",
      " 0   customerID        7043 non-null   object        \n",
      " 1   BeginDate         7043 non-null   datetime64[ns]\n",
      " 2   EndDate           7043 non-null   object        \n",
      " 3   Type              7043 non-null   object        \n",
      " 4   PaperlessBilling  7043 non-null   object        \n",
      " 5   PaymentMethod     7043 non-null   object        \n",
      " 6   MonthlyCharges    7043 non-null   float64       \n",
      " 7   TotalCharges      7032 non-null   float64       \n",
      " 8   gender            7043 non-null   object        \n",
      " 9   SeniorCitizen     7043 non-null   int64         \n",
      " 10  Partner           7043 non-null   object        \n",
      " 11  Dependents        7043 non-null   object        \n",
      " 12  InternetService   7043 non-null   object        \n",
      " 13  OnlineSecurity    7043 non-null   object        \n",
      " 14  OnlineBackup      7043 non-null   object        \n",
      " 15  DeviceProtection  7043 non-null   object        \n",
      " 16  TechSupport       7043 non-null   object        \n",
      " 17  StreamingTV       7043 non-null   object        \n",
      " 18  StreamingMovies   7043 non-null   object        \n",
      " 19  MultipleLines     7043 non-null   object        \n",
      "dtypes: datetime64[ns](1), float64(2), int64(1), object(16)\n",
      "memory usage: 1.1+ MB\n"
     ]
    }
   ],
   "source": [
    "df.info()"
   ]
  },
  {
   "cell_type": "markdown",
   "metadata": {},
   "source": [
    "##### Para evitar perder datos de los clientes que no cuentan con todos los servicios y que nuestro entrenamiento mejore, se procedio a llenar los valores faltantes."
   ]
  },
  {
   "cell_type": "markdown",
   "metadata": {},
   "source": [
    "#### d) Columnas nuevas"
   ]
  },
  {
   "cell_type": "code",
   "execution_count": 22,
   "metadata": {},
   "outputs": [],
   "source": [
    "#Tranformamos los datos 'No' a 'NaN'\n",
    "df['EndDate'] = df['EndDate'].replace('No', np.nan)\n",
    "\n",
    "#Se tranforman los datos EndDate a tipo 'datetime' \n",
    "df['EndDate'] = pd.to_datetime(df['EndDate'])"
   ]
  },
  {
   "cell_type": "code",
   "execution_count": 23,
   "metadata": {},
   "outputs": [],
   "source": [
    "#Se crea una columna para saber si un cliente esta activo o no\n",
    "\n",
    "df['ActiveCustomer'] = df['EndDate'].isna() "
   ]
  },
  {
   "cell_type": "markdown",
   "metadata": {},
   "source": [
    "##### Con la columna nueva \"ActiveCustomer\" podremos saber que clientes se encuentran activos"
   ]
  },
  {
   "cell_type": "markdown",
   "metadata": {},
   "source": [
    "#### e) Visualizacion de datos"
   ]
  },
  {
   "cell_type": "markdown",
   "metadata": {},
   "source": [
    "#### e.1) Distribucion de clientes Activos vs Inactivos"
   ]
  },
  {
   "cell_type": "code",
   "execution_count": 24,
   "metadata": {},
   "outputs": [
    {
     "data": {
      "image/png": "[encoded data removed]",
      "text/plain": [
       "<Figure size 600x400 with 1 Axes>"
      ]
     },
     "metadata": {},
     "output_type": "display_data"
    }
   ],
   "source": [
    "# Distribucion de clientes Activos vs Inactivos\n",
    "\n",
    "plt.figure(figsize = (6,4))\n",
    "df['ActiveCustomer'].value_counts().plot(kind='bar', color = ['skyblue', 'lightcoral'])\n",
    "plt.title('Clientes Activos vs Clientes Inactivos')\n",
    "plt.xlabel('Status')\n",
    "plt.ylabel('Numero de clientes')\n",
    "plt.xticks([0, 1], ['Activo', 'Inactivo'])\n",
    "plt.show()\n"
   ]
  },
  {
   "cell_type": "markdown",
   "metadata": {},
   "source": [
    "##### Se puede observar que casi 2000 clientes han abandonado su servicio, y siguen activos mas de 5000 clientes, esto quiere decir que de los 7000 clientes aproximados que tuvo la compañia, cerca de un 30% ha cancelado sus servicios"
   ]
  },
  {
   "cell_type": "markdown",
   "metadata": {},
   "source": [
    "##### "
   ]
  },
  {
   "cell_type": "markdown",
   "metadata": {},
   "source": [
    "#### e.2) Distribucion de cargos mensuales y cargos totales"
   ]
  },
  {
   "cell_type": "code",
   "execution_count": 25,
   "metadata": {},
   "outputs": [
    {
     "data": {
      "image/png": "[encoded data removed]",
      "text/plain": [
       "<Figure size 640x480 with 2 Axes>"
      ]
     },
     "metadata": {},
     "output_type": "display_data"
    }
   ],
   "source": [
    "# Distribucion de \"MontlyCharges\" y \"TotalCharges\"\n",
    "\n",
    "plt.figsize = (12, 5)\n",
    "plt.subplot(1, 2, 1)\n",
    "sns.histplot(df['MonthlyCharges'], kde=True, color = 'Skyblue')\n",
    "plt.title('Distribucion de cargos mensuales')\n",
    "\n",
    "plt.subplot(1, 2, 2)\n",
    "sns.histplot(df['TotalCharges'].dropna(), kde=True, color= 'lightcoral')\n",
    "plt.title('Distribucion de cargos totales')\n",
    "plt.show()"
   ]
  },
  {
   "cell_type": "markdown",
   "metadata": {},
   "source": [
    "##### Podemos observar que existen 2 grupos bien marcados con cargos mensuales, por lo que podemos deducir que existen diversos precios para los diferentes planes.\n",
    "##### La mayoria de los clientes tienen cargos totales bajos, lo que podria indicar que tienen planes economicos, o son clientes nuevos.\n",
    "##### Los clientes con cargos totales altos son clientes leales o con servicios premium, lo que los convierte en un grupo a retener."
   ]
  },
  {
   "cell_type": "markdown",
   "metadata": {},
   "source": [
    "#### e.3) Distribucion de clientes por tipo de contrato"
   ]
  },
  {
   "cell_type": "code",
   "execution_count": 26,
   "metadata": {},
   "outputs": [
    {
     "name": "stderr",
     "output_type": "stream",
     "text": [
      "/var/folders/tl/svswzrd161q7xy22grsvz20h0000gn/T/ipykernel_48528/1095025498.py:2: FutureWarning: \n",
      "\n",
      "Passing `palette` without assigning `hue` is deprecated and will be removed in v0.14.0. Assign the `x` variable to `hue` and set `legend=False` for the same effect.\n",
      "\n",
      "  sns.countplot(x='Type', data=df, palette='pastel')\n"
     ]
    },
    {
     "data": {
      "image/png": "[encoded data removed]",
      "text/plain": [
       "<Figure size 800x500 with 1 Axes>"
      ]
     },
     "metadata": {},
     "output_type": "display_data"
    }
   ],
   "source": [
    "plt.figure(figsize=(8, 5))\n",
    "sns.countplot(x='Type', data=df, palette='pastel')\n",
    "plt.title('Distribución de Clientes por Tipo de Contrato')\n",
    "plt.xlabel('Tipo de Contrato')\n",
    "plt.ylabel('Número de Clientes')\n",
    "plt.show()"
   ]
  },
  {
   "cell_type": "markdown",
   "metadata": {},
   "source": [
    "##### Se puede observar que la mayoria de clientes prefieren pagar su contrato mensualmente, seguidos del grupo que prefiere pagarlo adelantados por 2 años que deben tener mayores beneficios, y en ultimo lugar se encuentran los clientes que lo pagan anualmente."
   ]
  },
  {
   "cell_type": "markdown",
   "metadata": {},
   "source": [
    "### 2) Preprocesamiento de datos"
   ]
  },
  {
   "cell_type": "markdown",
   "metadata": {},
   "source": [
    "#### a) Eliminacion de columnas "
   ]
  },
  {
   "cell_type": "code",
   "execution_count": 27,
   "metadata": {},
   "outputs": [],
   "source": [
    "#Se elimina variables que no aportan a nuestro entrenamiento\n",
    "df = df.drop(columns = ['customerID'])\n"
   ]
  },
  {
   "cell_type": "code",
   "execution_count": 28,
   "metadata": {},
   "outputs": [],
   "source": [
    "\n",
    "df = df.drop(columns = ['BeginDate', 'EndDate'])"
   ]
  },
  {
   "cell_type": "code",
   "execution_count": 29,
   "metadata": {},
   "outputs": [
    {
     "name": "stdout",
     "output_type": "stream",
     "text": [
      "<class 'pandas.core.frame.DataFrame'>\n",
      "RangeIndex: 7043 entries, 0 to 7042\n",
      "Data columns (total 18 columns):\n",
      " #   Column            Non-Null Count  Dtype  \n",
      "---  ------            --------------  -----  \n",
      " 0   Type              7043 non-null   object \n",
      " 1   PaperlessBilling  7043 non-null   object \n",
      " 2   PaymentMethod     7043 non-null   object \n",
      " 3   MonthlyCharges    7043 non-null   float64\n",
      " 4   TotalCharges      7032 non-null   float64\n",
      " 5   gender            7043 non-null   object \n",
      " 6   SeniorCitizen     7043 non-null   int64  \n",
      " 7   Partner           7043 non-null   object \n",
      " 8   Dependents        7043 non-null   object \n",
      " 9   InternetService   7043 non-null   object \n",
      " 10  OnlineSecurity    7043 non-null   object \n",
      " 11  OnlineBackup      7043 non-null   object \n",
      " 12  DeviceProtection  7043 non-null   object \n",
      " 13  TechSupport       7043 non-null   object \n",
      " 14  StreamingTV       7043 non-null   object \n",
      " 15  StreamingMovies   7043 non-null   object \n",
      " 16  MultipleLines     7043 non-null   object \n",
      " 17  ActiveCustomer    7043 non-null   bool   \n",
      "dtypes: bool(1), float64(2), int64(1), object(14)\n",
      "memory usage: 942.4+ KB\n"
     ]
    }
   ],
   "source": [
    "df.info()"
   ]
  },
  {
   "cell_type": "markdown",
   "metadata": {},
   "source": [
    "##### Las columnas eliminadas no aportan valor a nuestro modelo, por lo que se las elimina."
   ]
  },
  {
   "cell_type": "markdown",
   "metadata": {},
   "source": [
    "#### b) Codificacion de variables categoricas con One-hot encoding "
   ]
  },
  {
   "cell_type": "code",
   "execution_count": 30,
   "metadata": {},
   "outputs": [],
   "source": [
    "#Se utiliza One-hot encoding\n",
    "df = pd.get_dummies(df, columns = ['Type', 'PaperlessBilling', 'PaymentMethod', 'gender', 'Partner', 'Dependents',\n",
    "                                   'InternetService', 'OnlineSecurity', 'OnlineBackup', 'DeviceProtection', 'TechSupport', 'StreamingTV',\n",
    "                                   'StreamingMovies', 'MultipleLines'], drop_first=True)"
   ]
  },
  {
   "cell_type": "code",
   "execution_count": 31,
   "metadata": {},
   "outputs": [],
   "source": [
    "#Se cambia el tipo de datos de 'bol' a 'int'\n",
    "df['ActiveCustomer'] = df['ActiveCustomer'].astype('int')\n",
    "df['Type_One year'] = df['Type_One year'].astype('int')\n",
    "df['Type_Two year'] = df['Type_Two year'].astype('int')\n",
    "df['PaperlessBilling_Yes'] = df['PaperlessBilling_Yes'].astype('int')\n",
    "df['PaymentMethod_Credit card (automatic)'] = df['PaymentMethod_Credit card (automatic)'].astype('int')\n",
    "df['PaymentMethod_Electronic check'] = df['PaymentMethod_Electronic check'].astype('int')\n",
    "df['PaymentMethod_Mailed check'] = df['PaymentMethod_Mailed check'].astype('int')\n",
    "df['gender_Male'] = df['gender_Male'].astype('int')\n",
    "df['Partner_Yes'] = df['Partner_Yes'].astype('int')\n",
    "df['Dependents_Yes'] = df['Dependents_Yes'].astype('int')\n",
    "df['InternetService_Fiber optic'] = df['InternetService_Fiber optic'].astype('int')\n",
    "df['InternetService_No'] = df['InternetService_No'].astype('int')\n",
    "df['OnlineSecurity_Yes'] = df['OnlineSecurity_Yes'].astype('int')\n",
    "df['OnlineBackup_Yes'] = df['OnlineBackup_Yes'].astype('int')\n",
    "df['DeviceProtection_Yes'] = df['DeviceProtection_Yes'].astype('int')\n",
    "df['TechSupport_Yes'] = df['TechSupport_Yes'].astype('int')\n",
    "df['StreamingTV_Yes'] = df['StreamingTV_Yes'].astype('int')\n",
    "df['StreamingMovies_Yes'] = df['StreamingMovies_Yes'].astype('int')\n",
    "df['MultipleLines_Yes'] = df['MultipleLines_Yes'].astype('int')"
   ]
  },
  {
   "cell_type": "code",
   "execution_count": 32,
   "metadata": {},
   "outputs": [
    {
     "name": "stdout",
     "output_type": "stream",
     "text": [
      "<class 'pandas.core.frame.DataFrame'>\n",
      "RangeIndex: 7043 entries, 0 to 7042\n",
      "Data columns (total 22 columns):\n",
      " #   Column                                 Non-Null Count  Dtype  \n",
      "---  ------                                 --------------  -----  \n",
      " 0   MonthlyCharges                         7043 non-null   float64\n",
      " 1   TotalCharges                           7032 non-null   float64\n",
      " 2   SeniorCitizen                          7043 non-null   int64  \n",
      " 3   ActiveCustomer                         7043 non-null   int64  \n",
      " 4   Type_One year                          7043 non-null   int64  \n",
      " 5   Type_Two year                          7043 non-null   int64  \n",
      " 6   PaperlessBilling_Yes                   7043 non-null   int64  \n",
      " 7   PaymentMethod_Credit card (automatic)  7043 non-null   int64  \n",
      " 8   PaymentMethod_Electronic check         7043 non-null   int64  \n",
      " 9   PaymentMethod_Mailed check             7043 non-null   int64  \n",
      " 10  gender_Male                            7043 non-null   int64  \n",
      " 11  Partner_Yes                            7043 non-null   int64  \n",
      " 12  Dependents_Yes                         7043 non-null   int64  \n",
      " 13  InternetService_Fiber optic            7043 non-null   int64  \n",
      " 14  InternetService_No                     7043 non-null   int64  \n",
      " 15  OnlineSecurity_Yes                     7043 non-null   int64  \n",
      " 16  OnlineBackup_Yes                       7043 non-null   int64  \n",
      " 17  DeviceProtection_Yes                   7043 non-null   int64  \n",
      " 18  TechSupport_Yes                        7043 non-null   int64  \n",
      " 19  StreamingTV_Yes                        7043 non-null   int64  \n",
      " 20  StreamingMovies_Yes                    7043 non-null   int64  \n",
      " 21  MultipleLines_Yes                      7043 non-null   int64  \n",
      "dtypes: float64(2), int64(20)\n",
      "memory usage: 1.2 MB\n"
     ]
    }
   ],
   "source": [
    "df.info()"
   ]
  },
  {
   "cell_type": "markdown",
   "metadata": {},
   "source": [
    "##### Se transformaron todas las variables categoricas para que el modelo pueda procesarlas."
   ]
  },
  {
   "cell_type": "markdown",
   "metadata": {},
   "source": [
    "#### c) Manejo de valores nulos"
   ]
  },
  {
   "cell_type": "code",
   "execution_count": 33,
   "metadata": {},
   "outputs": [],
   "source": [
    "#Tenemos valores nulos en \"TotalChages\"\n",
    "\n",
    "df['TotalCharges'] = df['TotalCharges'].fillna(df['TotalCharges'].median())"
   ]
  },
  {
   "cell_type": "code",
   "execution_count": 34,
   "metadata": {},
   "outputs": [
    {
     "name": "stdout",
     "output_type": "stream",
     "text": [
      "<class 'pandas.core.frame.DataFrame'>\n",
      "RangeIndex: 7043 entries, 0 to 7042\n",
      "Data columns (total 22 columns):\n",
      " #   Column                                 Non-Null Count  Dtype  \n",
      "---  ------                                 --------------  -----  \n",
      " 0   MonthlyCharges                         7043 non-null   float64\n",
      " 1   TotalCharges                           7043 non-null   float64\n",
      " 2   SeniorCitizen                          7043 non-null   int64  \n",
      " 3   ActiveCustomer                         7043 non-null   int64  \n",
      " 4   Type_One year                          7043 non-null   int64  \n",
      " 5   Type_Two year                          7043 non-null   int64  \n",
      " 6   PaperlessBilling_Yes                   7043 non-null   int64  \n",
      " 7   PaymentMethod_Credit card (automatic)  7043 non-null   int64  \n",
      " 8   PaymentMethod_Electronic check         7043 non-null   int64  \n",
      " 9   PaymentMethod_Mailed check             7043 non-null   int64  \n",
      " 10  gender_Male                            7043 non-null   int64  \n",
      " 11  Partner_Yes                            7043 non-null   int64  \n",
      " 12  Dependents_Yes                         7043 non-null   int64  \n",
      " 13  InternetService_Fiber optic            7043 non-null   int64  \n",
      " 14  InternetService_No                     7043 non-null   int64  \n",
      " 15  OnlineSecurity_Yes                     7043 non-null   int64  \n",
      " 16  OnlineBackup_Yes                       7043 non-null   int64  \n",
      " 17  DeviceProtection_Yes                   7043 non-null   int64  \n",
      " 18  TechSupport_Yes                        7043 non-null   int64  \n",
      " 19  StreamingTV_Yes                        7043 non-null   int64  \n",
      " 20  StreamingMovies_Yes                    7043 non-null   int64  \n",
      " 21  MultipleLines_Yes                      7043 non-null   int64  \n",
      "dtypes: float64(2), int64(20)\n",
      "memory usage: 1.2 MB\n"
     ]
    }
   ],
   "source": [
    "df.info()"
   ]
  },
  {
   "cell_type": "markdown",
   "metadata": {},
   "source": [
    "##### Existian valores vacios en la columna \"TotalCharges\" por lo que se procedio a sacar la media de todos los \"TotalCharges\" y rellenar los valores faltantes."
   ]
  },
  {
   "cell_type": "markdown",
   "metadata": {},
   "source": [
    "#### d) Escalado de caracteristicas"
   ]
  },
  {
   "cell_type": "code",
   "execution_count": 35,
   "metadata": {},
   "outputs": [],
   "source": [
    "#Las columnas numericas deben ser escaladas para que tengan un rango similar. \n",
    "\n",
    "scaler = StandardScaler()\n",
    "\n",
    "numerical_columns = ['MonthlyCharges', 'TotalCharges']\n",
    "\n",
    "df[numerical_columns] = scaler.fit_transform(df[numerical_columns])\n"
   ]
  },
  {
   "cell_type": "code",
   "execution_count": 36,
   "metadata": {},
   "outputs": [
    {
     "data": {
      "text/html": [
       "<div>\n",
       "<style scoped>\n",
       "    .dataframe tbody tr th:only-of-type {\n",
       "        vertical-align: middle;\n",
       "    }\n",
       "\n",
       "    .dataframe tbody tr th {\n",
       "        vertical-align: top;\n",
       "    }\n",
       "\n",
       "    .dataframe thead th {\n",
       "        text-align: right;\n",
       "    }\n",
       "</style>\n",
       "<table border=\"1\" class=\"dataframe\">\n",
       "  <thead>\n",
       "    <tr style=\"text-align: right;\">\n",
       "      <th></th>\n",
       "      <th>MonthlyCharges</th>\n",
       "      <th>TotalCharges</th>\n",
       "      <th>SeniorCitizen</th>\n",
       "      <th>ActiveCustomer</th>\n",
       "      <th>Type_One year</th>\n",
       "      <th>Type_Two year</th>\n",
       "      <th>PaperlessBilling_Yes</th>\n",
       "      <th>PaymentMethod_Credit card (automatic)</th>\n",
       "      <th>PaymentMethod_Electronic check</th>\n",
       "      <th>PaymentMethod_Mailed check</th>\n",
       "      <th>...</th>\n",
       "      <th>Dependents_Yes</th>\n",
       "      <th>InternetService_Fiber optic</th>\n",
       "      <th>InternetService_No</th>\n",
       "      <th>OnlineSecurity_Yes</th>\n",
       "      <th>OnlineBackup_Yes</th>\n",
       "      <th>DeviceProtection_Yes</th>\n",
       "      <th>TechSupport_Yes</th>\n",
       "      <th>StreamingTV_Yes</th>\n",
       "      <th>StreamingMovies_Yes</th>\n",
       "      <th>MultipleLines_Yes</th>\n",
       "    </tr>\n",
       "  </thead>\n",
       "  <tbody>\n",
       "    <tr>\n",
       "      <th>0</th>\n",
       "      <td>0.027862</td>\n",
       "      <td>-0.745490</td>\n",
       "      <td>0</td>\n",
       "      <td>1</td>\n",
       "      <td>1</td>\n",
       "      <td>0</td>\n",
       "      <td>1</td>\n",
       "      <td>0</td>\n",
       "      <td>0</td>\n",
       "      <td>1</td>\n",
       "      <td>...</td>\n",
       "      <td>1</td>\n",
       "      <td>0</td>\n",
       "      <td>0</td>\n",
       "      <td>0</td>\n",
       "      <td>1</td>\n",
       "      <td>0</td>\n",
       "      <td>1</td>\n",
       "      <td>1</td>\n",
       "      <td>0</td>\n",
       "      <td>0</td>\n",
       "    </tr>\n",
       "    <tr>\n",
       "      <th>1</th>\n",
       "      <td>-0.161583</td>\n",
       "      <td>-0.767961</td>\n",
       "      <td>0</td>\n",
       "      <td>1</td>\n",
       "      <td>0</td>\n",
       "      <td>0</td>\n",
       "      <td>0</td>\n",
       "      <td>0</td>\n",
       "      <td>0</td>\n",
       "      <td>1</td>\n",
       "      <td>...</td>\n",
       "      <td>0</td>\n",
       "      <td>0</td>\n",
       "      <td>0</td>\n",
       "      <td>0</td>\n",
       "      <td>0</td>\n",
       "      <td>0</td>\n",
       "      <td>0</td>\n",
       "      <td>0</td>\n",
       "      <td>1</td>\n",
       "      <td>1</td>\n",
       "    </tr>\n",
       "    <tr>\n",
       "      <th>2</th>\n",
       "      <td>0.303720</td>\n",
       "      <td>-0.883431</td>\n",
       "      <td>0</td>\n",
       "      <td>0</td>\n",
       "      <td>0</td>\n",
       "      <td>0</td>\n",
       "      <td>1</td>\n",
       "      <td>0</td>\n",
       "      <td>1</td>\n",
       "      <td>0</td>\n",
       "      <td>...</td>\n",
       "      <td>0</td>\n",
       "      <td>1</td>\n",
       "      <td>0</td>\n",
       "      <td>0</td>\n",
       "      <td>0</td>\n",
       "      <td>1</td>\n",
       "      <td>0</td>\n",
       "      <td>0</td>\n",
       "      <td>0</td>\n",
       "      <td>0</td>\n",
       "    </tr>\n",
       "    <tr>\n",
       "      <th>3</th>\n",
       "      <td>1.104706</td>\n",
       "      <td>-0.460934</td>\n",
       "      <td>1</td>\n",
       "      <td>0</td>\n",
       "      <td>0</td>\n",
       "      <td>0</td>\n",
       "      <td>1</td>\n",
       "      <td>0</td>\n",
       "      <td>1</td>\n",
       "      <td>0</td>\n",
       "      <td>...</td>\n",
       "      <td>0</td>\n",
       "      <td>1</td>\n",
       "      <td>0</td>\n",
       "      <td>0</td>\n",
       "      <td>1</td>\n",
       "      <td>1</td>\n",
       "      <td>0</td>\n",
       "      <td>1</td>\n",
       "      <td>1</td>\n",
       "      <td>0</td>\n",
       "    </tr>\n",
       "    <tr>\n",
       "      <th>4</th>\n",
       "      <td>0.636080</td>\n",
       "      <td>-0.889368</td>\n",
       "      <td>1</td>\n",
       "      <td>0</td>\n",
       "      <td>0</td>\n",
       "      <td>0</td>\n",
       "      <td>1</td>\n",
       "      <td>0</td>\n",
       "      <td>0</td>\n",
       "      <td>1</td>\n",
       "      <td>...</td>\n",
       "      <td>0</td>\n",
       "      <td>1</td>\n",
       "      <td>0</td>\n",
       "      <td>0</td>\n",
       "      <td>0</td>\n",
       "      <td>0</td>\n",
       "      <td>1</td>\n",
       "      <td>1</td>\n",
       "      <td>0</td>\n",
       "      <td>0</td>\n",
       "    </tr>\n",
       "  </tbody>\n",
       "</table>\n",
       "<p>5 rows × 22 columns</p>\n",
       "</div>"
      ],
      "text/plain": [
       "   MonthlyCharges  TotalCharges  SeniorCitizen  ActiveCustomer  Type_One year  \\\n",
       "0        0.027862     -0.745490              0               1              1   \n",
       "1       -0.161583     -0.767961              0               1              0   \n",
       "2        0.303720     -0.883431              0               0              0   \n",
       "3        1.104706     -0.460934              1               0              0   \n",
       "4        0.636080     -0.889368              1               0              0   \n",
       "\n",
       "   Type_Two year  PaperlessBilling_Yes  PaymentMethod_Credit card (automatic)  \\\n",
       "0              0                     1                                      0   \n",
       "1              0                     0                                      0   \n",
       "2              0                     1                                      0   \n",
       "3              0                     1                                      0   \n",
       "4              0                     1                                      0   \n",
       "\n",
       "   PaymentMethod_Electronic check  PaymentMethod_Mailed check  ...  \\\n",
       "0                               0                           1  ...   \n",
       "1                               0                           1  ...   \n",
       "2                               1                           0  ...   \n",
       "3                               1                           0  ...   \n",
       "4                               0                           1  ...   \n",
       "\n",
       "   Dependents_Yes  InternetService_Fiber optic  InternetService_No  \\\n",
       "0               1                            0                   0   \n",
       "1               0                            0                   0   \n",
       "2               0                            1                   0   \n",
       "3               0                            1                   0   \n",
       "4               0                            1                   0   \n",
       "\n",
       "   OnlineSecurity_Yes  OnlineBackup_Yes  DeviceProtection_Yes  \\\n",
       "0                   0                 1                     0   \n",
       "1                   0                 0                     0   \n",
       "2                   0                 0                     1   \n",
       "3                   0                 1                     1   \n",
       "4                   0                 0                     0   \n",
       "\n",
       "   TechSupport_Yes  StreamingTV_Yes  StreamingMovies_Yes  MultipleLines_Yes  \n",
       "0                1                1                    0                  0  \n",
       "1                0                0                    1                  1  \n",
       "2                0                0                    0                  0  \n",
       "3                0                1                    1                  0  \n",
       "4                1                1                    0                  0  \n",
       "\n",
       "[5 rows x 22 columns]"
      ]
     },
     "execution_count": 36,
     "metadata": {},
     "output_type": "execute_result"
    }
   ],
   "source": [
    "df.head()"
   ]
  },
  {
   "cell_type": "markdown",
   "metadata": {},
   "source": [
    "##### Nuestro DF see encuentra listo para poder ser entrenado, escalar las columnas numericas nos permite obtener rangos similares. Usar One_Hot Encoding nos permite transformar las columnas categoricas a valores de 0 y 1 que ayudaran al entrenamiento del modelo."
   ]
  },
  {
   "cell_type": "markdown",
   "metadata": {},
   "source": [
    "### 3) Entrenamiento del modelo"
   ]
  },
  {
   "cell_type": "markdown",
   "metadata": {},
   "source": [
    "#### a) Preparacion de datos"
   ]
  },
  {
   "cell_type": "code",
   "execution_count": 94,
   "metadata": {},
   "outputs": [],
   "source": [
    "# Se seleccion el target y features\n",
    "\n",
    "features = df.drop(['ActiveCustomer'], axis=1)\n",
    "target = df['ActiveCustomer']\n",
    "\n",
    "# Se divide en datos de entrenamiento y test\n",
    "\n",
    "features_train, features_valid, target_train, target_valid = train_test_split(features, target, test_size=0.25, random_state=514)"
   ]
  },
  {
   "cell_type": "markdown",
   "metadata": {},
   "source": [
    "#### b) Regresion Logistica"
   ]
  },
  {
   "cell_type": "code",
   "execution_count": 95,
   "metadata": {},
   "outputs": [
    {
     "name": "stdout",
     "output_type": "stream",
     "text": [
      "Regresión Logística - Exactitud: 0.7967, AUC-ROC: 0.7116\n"
     ]
    }
   ],
   "source": [
    "log_reg = LogisticRegression(solver='liblinear', max_iter=100, random_state=514)\n",
    "log_reg.fit(features_train, target_train)\n",
    "\n",
    "pred_log_reg = log_reg.predict(features_valid)\n",
    "\n",
    "accuracy_log = accuracy_score(target_valid, pred_log_reg)\n",
    "auc_log = roc_auc_score(target_valid, pred_log_reg)\n",
    "\n",
    "print(f\"Regresión Logística - Exactitud: {accuracy_log:.4f}, AUC-ROC: {auc_log:.4f}\")"
   ]
  },
  {
   "cell_type": "markdown",
   "metadata": {},
   "source": [
    "#### c) Random Forest"
   ]
  },
  {
   "cell_type": "code",
   "execution_count": 96,
   "metadata": {},
   "outputs": [
    {
     "name": "stdout",
     "output_type": "stream",
     "text": [
      "Random Forest - Exactitud: 0.7853, AUC-ROC: 0.6994\n"
     ]
    }
   ],
   "source": [
    "\n",
    "random_f = RandomForestClassifier(n_estimators=100, max_depth=30, random_state=514)\n",
    "random_f.fit(features_train, target_train)\n",
    "\n",
    "pred_random_f = random_f.predict(features_valid)\n",
    "accuracy_random_f = accuracy_score(target_valid, pred_random_f)\n",
    "auc_random_f = roc_auc_score(target_valid, pred_random_f)\n",
    "\n",
    "print(f\"Random Forest - Exactitud: {accuracy_random_f:.4f}, AUC-ROC: {auc_random_f:.4f}\")"
   ]
  },
  {
   "cell_type": "markdown",
   "metadata": {},
   "source": [
    "#### d) Arbol de decision"
   ]
  },
  {
   "cell_type": "code",
   "execution_count": 97,
   "metadata": {},
   "outputs": [
    {
     "name": "stdout",
     "output_type": "stream",
     "text": [
      "Árbol de Decisión - Exactitud: 0.7161, AUC-ROC: 0.6482\n"
     ]
    }
   ],
   "source": [
    "decission_t = DecisionTreeClassifier(random_state=514)\n",
    "decission_t.fit(features_train, target_train)\n",
    "\n",
    "pred_dt = decission_t.predict(features_valid)\n",
    "\n",
    "accuracy_dt = accuracy_score(target_valid, pred_dt)\n",
    "auc_dt = roc_auc_score(target_valid, pred_dt)\n",
    "\n",
    "print(f\"Árbol de Decisión - Exactitud: {accuracy_dt:.4f}, AUC-ROC: {auc_dt:.4f}\")"
   ]
  },
  {
   "cell_type": "markdown",
   "metadata": {},
   "source": [
    "#### e) Regresion logistica Balanceada"
   ]
  },
  {
   "cell_type": "code",
   "execution_count": 104,
   "metadata": {
    "scrolled": true
   },
   "outputs": [
    {
     "name": "stdout",
     "output_type": "stream",
     "text": [
      "Regresión Logística Balanceada - AUC-ROC: 0.7614\n"
     ]
    }
   ],
   "source": [
    "log_reg_balanced = LogisticRegression(max_iter=5000, random_state=514, class_weight='balanced')\n",
    "log_reg_balanced.fit(features_train, target_train)\n",
    "\n",
    "pred_log_reg_balanced = log_reg_balanced.predict(features_valid)\n",
    "auc_log_reg_balanced = roc_auc_score(target_valid, pred_log_reg_balanced)\n",
    "\n",
    "print(f\"Regresión Logística Balanceada - AUC-ROC: {auc_log_reg_balanced:.4f}\")"
   ]
  },
  {
   "cell_type": "markdown",
   "metadata": {},
   "source": [
    "#### g) Random Forest Balanceado"
   ]
  },
  {
   "cell_type": "code",
   "execution_count": 99,
   "metadata": {},
   "outputs": [
    {
     "name": "stdout",
     "output_type": "stream",
     "text": [
      "Random Forest Balanceado - AUC-ROC: 0.6752\n"
     ]
    }
   ],
   "source": [
    "rf_balanced = RandomForestClassifier(random_state=514, class_weight='balanced')\n",
    "rf_balanced.fit(features_train, target_train)\n",
    "\n",
    "pred_rf_balanced = rf_balanced.predict(features_valid)\n",
    "auc_rf_balanced = roc_auc_score(target_valid, pred_rf_balanced)\n",
    "\n",
    "print(f\"Random Forest Balanceado - AUC-ROC: {auc_rf_balanced:.4f}\")"
   ]
  },
  {
   "cell_type": "markdown",
   "metadata": {},
   "source": [
    "#### h) Arbol de decision Balanceado"
   ]
  },
  {
   "cell_type": "code",
   "execution_count": 100,
   "metadata": {},
   "outputs": [
    {
     "name": "stdout",
     "output_type": "stream",
     "text": [
      "Árbol de Decisión Balanceado - AUC-ROC: 0.6575\n"
     ]
    }
   ],
   "source": [
    "dt_balanced = DecisionTreeClassifier(random_state=514, class_weight='balanced')\n",
    "dt_balanced.fit(features_train, target_train)\n",
    "\n",
    "pred_dt_balanced = dt_balanced.predict(features_valid)\n",
    "auc_dt_balanced = roc_auc_score(target_valid, pred_dt_balanced)\n",
    "\n",
    "print(f\"Árbol de Decisión Balanceado - AUC-ROC: {auc_dt_balanced:.4f}\")"
   ]
  },
  {
   "cell_type": "markdown",
   "metadata": {},
   "source": [
    "#### i) XGB"
   ]
  },
  {
   "cell_type": "code",
   "execution_count": 101,
   "metadata": {},
   "outputs": [
    {
     "name": "stdout",
     "output_type": "stream",
     "text": [
      "XGBoost - AUC-ROC: 0.6889\n"
     ]
    }
   ],
   "source": [
    "xgb = XGBClassifier(random_state=514, eval_metric='logloss')\n",
    "xgb.fit(features_train, target_train)\n",
    "\n",
    "# Predecir y evaluar\n",
    "pred_xgb = xgb.predict(features_valid)\n",
    "auc_xgb = roc_auc_score(target_valid, pred_xgb)\n",
    "\n",
    "print(f\"XGBoost - AUC-ROC: {auc_xgb:.4f}\")"
   ]
  },
  {
   "cell_type": "markdown",
   "metadata": {},
   "source": [
    "#### 4) Conclusiones"
   ]
  },
  {
   "cell_type": "markdown",
   "metadata": {},
   "source": [
    "##### Se pudo obtener la metrica deseada mayor a 0.75 con la regresion logistica balanceada.\n",
    "##### La regresion logistica es facil de interpretar, y esta no se ve afectada por el \"overfitting\" tan facilmente como el arbol de decision o Random Forest\n",
    "#### Se puede mejorar aun mas su desempeño y hacer que la metrica sea mejor\n",
    "#### Se podria mejorar el modelo, eliminando las columnas de cada servicio adicional y colocandolas en una sola para saber si tiene un servicio adicional o no."
   ]
  },
  {
   "cell_type": "markdown",
   "metadata": {},
   "source": [
    "# Informe Final"
   ]
  },
  {
   "cell_type": "markdown",
   "metadata": {},
   "source": [
    "## Introduccion"
   ]
  },
  {
   "cell_type": "markdown",
   "metadata": {},
   "source": [
    "##### El objetivo del proyecto fue desarrollar un modelo de clasificación que prediga si un cliente está activo o inactivo (ActiveCustomer), utilizando un conjunto de datos con características como MonthlyCharges, TotalCharges, Type, PaymentMethod, entre otras. El requisito principal fue alcanzar un AUC-ROC mínimo de 0.75."
   ]
  },
  {
   "cell_type": "markdown",
   "metadata": {},
   "source": [
    "## Pasos del plan realizados y omitidos"
   ]
  },
  {
   "cell_type": "markdown",
   "metadata": {},
   "source": [
    "##### Los capítulos del plan propuesto fueron:\n",
    "\n",
    "##### Fase 1: Analísis de datos\n",
    "##### Fase 2: Preprocesamiento de Datos:\n",
    "##### Fase 3: Análisis de Modelos:\n",
    "##### Fase 4: Interpretación y Selección del Modelo Final:\n",
    "##### Fase 5: Informe Final:\n",
    "\n",
    "##### Todos los capitulos fueron realizados.\n",
    "##### Esta organizacion previa a la codificacion del proyecto nos ayudo a establecer un orden que nos ayudaria a corregirlo mas facil en caso de ser necesario, y aseguro que obtengamos exito en nuestra metrica.\n"
   ]
  },
  {
   "cell_type": "markdown",
   "metadata": {},
   "source": [
    "## Dificultades encontradas y soluciones"
   ]
  },
  {
   "cell_type": "markdown",
   "metadata": {},
   "source": [
    "##### 1) Bajo AUC-ROC en modelos iniciales: Se balancearon las clases\n",
    "##### 2) Se uso Gradient Boosting como alternativa\n",
    "##### 3) Se aplico \"class_weight='balanced'\" en los modelos \n",
    "##### 4) No se realizó una seleccion exhaustiva debido a la cantidad limitada de características.\n"
   ]
  },
  {
   "cell_type": "markdown",
   "metadata": {},
   "source": [
    "## Pasos claves para resolver la tarea"
   ]
  },
  {
   "cell_type": "markdown",
   "metadata": {},
   "source": [
    "##### 1) Se aplico One-hot Encoding a las variables categoricas.\n",
    "##### 2) Se escalaron las caracteristicas numericas para mejorar el rendimiento de los modelos.\n",
    "##### 3) Se dividieron los datos en conjuntos de entrenamiento y validacion para evaluar el rendimiento de los modelos.\n",
    "##### 4) Se entrenaron modelos de regresíon logística, random forest y árbol de decisión.\n",
    "##### 5) Se calcularon las métricas de accuracy y AUC-ROC que era nuestro objetivo.\n",
    "##### 6) Se uso el balanceo de clases para manejar el desbalanceo.\n"
   ]
  },
  {
   "cell_type": "markdown",
   "metadata": {},
   "source": [
    "## Conclusiones y recomendaciones"
   ]
  },
  {
   "cell_type": "markdown",
   "metadata": {},
   "source": [
    "##### 1) El modelo de Random Forest optimizado fue el que alcanzo el mejor desempeño con un valor de 0.7614\n",
    "##### 2) Se logro alcanzar el objetivo de AUC-ROC de minimo 0.75\n",
    "##### 3) Se puede probar modelos mas avanzados como LightGBM o CatBoost.\n",
    "##### 4) Se puede explorar el uso de esamblado de modelos para mejorar el rendimiento."
   ]
  },
  {
   "cell_type": "markdown",
   "metadata": {},
   "source": [
    "## Codigo Relevante"
   ]
  },
  {
   "cell_type": "markdown",
   "metadata": {},
   "source": [
    "##### log_reg_balanced = LogisticRegression(max_iter=5000, random_state=514, class_weight='balanced')\n",
    "\n",
    "##### log_reg_balanced.fit(features_train, target_train)\n",
    "\n",
    "##### pred_log_reg_balanced = log_reg_balanced.predict(features_valid)\n",
    "\n",
    "##### auc_log_reg_balanced = roc_auc_score(target_valid, pred_log_reg_balanced)\n",
    "\n",
    "##### print(f\"Regresión Logística Balanceada - AUC-ROC: {auc_log_reg_balanced:.4f}\")"
   ]
  },
  {
   "cell_type": "markdown",
   "metadata": {},
   "source": []
  }
 ],
 "metadata": {
  "ExecuteTimeLog": [
   {
    "duration": 3,
    "start_time": "2025-02-24T17:27:02.745Z"
   }
  ],
  "kernelspec": {
   "display_name": "Python 3 (ipykernel)",
   "language": "python",
   "name": "python3"
  },
  "language_info": {
   "codemirror_mode": {
    "name": "ipython",
    "version": 3
   },
   "file_extension": ".py",
   "mimetype": "text/x-python",
   "name": "python",
   "nbconvert_exporter": "python",
   "pygments_lexer": "ipython3",
   "version": "3.9.19"
  },
  "toc": {
   "base_numbering": 1,
   "nav_menu": {},
   "number_sections": true,
   "sideBar": true,
   "skip_h1_title": true,
   "title_cell": "Table of Contents",
   "title_sidebar": "Contents",
   "toc_cell": false,
   "toc_position": {},
   "toc_section_display": true,
   "toc_window_display": false
  }
 },
 "nbformat": 4,
 "nbformat_minor": 2
}
